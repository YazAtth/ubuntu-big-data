{
 "cells": [
  {
   "cell_type": "markdown",
   "metadata": {
    "id": "068uuDtQ5YfY"
   },
   "source": [
    "# Lab 4 - Spark & PySpark\n",
    "\n",
    "PySpark is a Python interface for Apache Spark. With it, we can apply SQL-like analysis on huge amounts of structured and semistructured data. If you're already familiar with Pandas and other Python libraries for data processing, PySpark is a good way to scale to Big Data processing.\n",
    "\n",
    "As Spark is written in the Scala programming language, it requires the JVM to run. So our first step is to install Java:"
   ]
  },
  {
   "cell_type": "code",
   "execution_count": 1,
   "metadata": {
    "id": "MyaggQIN62uA",
    "executionInfo": {
     "status": "ok",
     "timestamp": 1708052787621,
     "user_tz": -480,
     "elapsed": 14807,
     "user": {
      "displayName": "Haotian Li",
      "userId": "09451053382319173913"
     }
    }
   },
   "outputs": [],
   "source": [
    "# !apt-get install openjdk-8-jdk-headless -qq > /dev/null"
   ]
  },
  {
   "cell_type": "markdown",
   "metadata": {
    "id": "OY23qLTU7D-J"
   },
   "source": [
    "Next we need to download and upack Apache Spark and Hadoop:"
   ]
  },
  {
   "cell_type": "code",
   "execution_count": 2,
   "metadata": {
    "colab": {
     "base_uri": "https://localhost:8080/"
    },
    "id": "7RowfBl6qwyQ",
    "outputId": "ba8a0991-83af-40cc-ce93-a460946eaa0f",
    "executionInfo": {
     "status": "ok",
     "timestamp": 1708052804487,
     "user_tz": -480,
     "elapsed": 16869,
     "user": {
      "displayName": "Haotian Li",
      "userId": "09451053382319173913"
     }
    }
   },
   "outputs": [
    {
     "output_type": "stream",
     "name": "stdout",
     "text": [
      "--2024-02-16 03:06:27--  https://archive.apache.org/dist/spark/spark-3.3.1/spark-3.3.1-bin-hadoop3.tgz\n",
      "Resolving archive.apache.org (archive.apache.org)... 65.108.204.189, 2a01:4f9:1a:a084::2\n",
      "Connecting to archive.apache.org (archive.apache.org)|65.108.204.189|:443... connected.\n",
      "HTTP request sent, awaiting response... 200 OK\n",
      "Length: 299350810 (285M) [application/x-gzip]\n",
      "Saving to: ‘spark-3.3.1-bin-hadoop3.tgz’\n",
      "\n",
      "spark-3.3.1-bin-had 100%[===================>] 285.48M  24.3MB/s    in 12s     \n",
      "\n",
      "2024-02-16 03:06:40 (23.1 MB/s) - ‘spark-3.3.1-bin-hadoop3.tgz’ saved [299350810/299350810]\n",
      "\n"
     ]
    }
   ],
   "source": [
    "# !wget https://archive.apache.org/dist/spark/spark-3.3.1/spark-3.3.1-bin-hadoop3.tgz\n",
    "# !tar xf spark-3.3.1-bin-hadoop3.tgz\n",
    "# !rm spark-3.3.1-bin-hadoop3.tgz   # Tidying up"
   ]
  },
  {
   "cell_type": "code",
   "execution_count": 3,
   "metadata": {
    "id": "W1zHRRH_LOYm",
    "executionInfo": {
     "status": "ok",
     "timestamp": 1708052804488,
     "user_tz": -480,
     "elapsed": 4,
     "user": {
      "displayName": "Haotian Li",
      "userId": "09451053382319173913"
     }
    }
   },
   "outputs": [],
   "source": [
    "# Setting up our environmental variables:\n",
    "import os\n",
    "os.environ[\"JAVA_HOME\"] = \"/usr/lib/jvm/java-8-openjdk-amd64\"\n",
    "os.environ[\"SPARK_HOME\"] = \"/content/spark-3.3.1-bin-hadoop3\""
   ]
  },
  {
   "cell_type": "markdown",
   "metadata": {
    "id": "ym1-BRw57NRb"
   },
   "source": [
    "Next we'll need to install the findpark library to locate Spark on the system:"
   ]
  },
  {
   "cell_type": "code",
   "execution_count": 4,
   "metadata": {
    "id": "bn4a42HB9gAO",
    "executionInfo": {
     "status": "ok",
     "timestamp": 1708052811831,
     "user_tz": -480,
     "elapsed": 7346,
     "user": {
      "displayName": "Haotian Li",
      "userId": "09451053382319173913"
     }
    }
   },
   "outputs": [],
   "source": [
    "# !pip install -q findspark\n",
    "import findspark\n",
    "findspark.init()"
   ]
  },
  {
   "cell_type": "markdown",
   "metadata": {
    "id": "w7DeB6L9-XzM"
   },
   "source": [
    "We can now import SparkSession from `pyspark.sql` to create our entry point to Spark.\n",
    "\n",
    "**Note:** If we were running our session on a cluster we would need the master name as an argument for `master()` - i.e. yarn. However, we'll be working locally so we'll just use `local[x]` where x is an int value > 0. This represents how many partitions should be created when using RDD, DataFrame etc. This should ideally be the number of CPU cores we have so we'll use `local[*]` here to indicate that we want to use all cores.  "
   ]
  },
  {
   "cell_type": "code",
   "execution_count": 5,
   "metadata": {
    "colab": {
     "base_uri": "https://localhost:8080/",
     "height": 222
    },
    "id": "wfV06lLe938e",
    "outputId": "dfc6983c-2519-4585-bc60-fb167da4e826",
    "executionInfo": {
     "status": "ok",
     "timestamp": 1708052822734,
     "user_tz": -480,
     "elapsed": 10909,
     "user": {
      "displayName": "Haotian Li",
      "userId": "09451053382319173913"
     }
    }
   },
   "outputs": [
    {
     "output_type": "execute_result",
     "data": {
      "text/plain": [
       "<pyspark.sql.session.SparkSession at 0x786dd014eef0>"
      ],
      "text/html": [
       "\n",
       "            <div>\n",
       "                <p><b>SparkSession - in-memory</b></p>\n",
       "                \n",
       "        <div>\n",
       "            <p><b>SparkContext</b></p>\n",
       "\n",
       "            <p><a href=\"http://638f0412ecb0:4040\">Spark UI</a></p>\n",
       "\n",
       "            <dl>\n",
       "              <dt>Version</dt>\n",
       "                <dd><code>v3.3.1</code></dd>\n",
       "              <dt>Master</dt>\n",
       "                <dd><code>local[*]</code></dd>\n",
       "              <dt>AppName</dt>\n",
       "                <dd><code>pyspark-shell</code></dd>\n",
       "            </dl>\n",
       "        </div>\n",
       "        \n",
       "            </div>\n",
       "        "
      ]
     },
     "metadata": {},
     "execution_count": 5
    }
   ],
   "source": [
    "from pyspark.sql import SparkSession\n",
    "spark = SparkSession.builder.master(\"local[*]\").getOrCreate()\n",
    "spark.conf.set(\"spark.sql.repl.eagerEval.enabled\", True) #  This will format our output tables a bit nicer when not using the show() method\n",
    "spark"
   ]
  },
  {
   "cell_type": "markdown",
   "metadata": {
    "id": "LCJ6mfPc8FNv"
   },
   "source": [
    "**Note:** You can check how many CPU cores are available to you in the cell below. (This will likely be just 2 on Google Colab but may differ if you have chosen to run this lab via Jupyter Notebooks on your own system)."
   ]
  },
  {
   "cell_type": "code",
   "execution_count": 6,
   "metadata": {
    "colab": {
     "base_uri": "https://localhost:8080/"
    },
    "id": "fsDfz7AS85eW",
    "outputId": "592a3cea-3f65-4b9c-9493-475f503ce0ad",
    "executionInfo": {
     "status": "ok",
     "timestamp": 1708052822735,
     "user_tz": -480,
     "elapsed": 5,
     "user": {
      "displayName": "Haotian Li",
      "userId": "09451053382319173913"
     }
    }
   },
   "outputs": [
    {
     "output_type": "stream",
     "name": "stdout",
     "text": [
      "2\n"
     ]
    }
   ],
   "source": [
    "import multiprocessing\n",
    "print(multiprocessing.cpu_count())"
   ]
  },
  {
   "cell_type": "markdown",
   "metadata": {
    "id": "8d4ynVCuq2Sv"
   },
   "source": [
    "## Section 1 - Basic Collections and Operations"
   ]
  },
  {
   "cell_type": "code",
   "execution_count": 7,
   "metadata": {
    "colab": {
     "base_uri": "https://localhost:8080/"
    },
    "id": "4HQ8vtcc9C6R",
    "outputId": "d34330ac-cefd-4c52-8849-7af8090d1f0f",
    "executionInfo": {
     "status": "ok",
     "timestamp": 1708052829651,
     "user_tz": -480,
     "elapsed": 6920,
     "user": {
      "displayName": "Haotian Li",
      "userId": "09451053382319173913"
     }
    }
   },
   "outputs": [
    {
     "output_type": "stream",
     "name": "stdout",
     "text": [
      "[1, 2, 3, 4, 5, 6, 7, 8, 9, 10, 11, 12, 13, 14, 15, 16, 17, 18, 19, 20, 21, 22, 23, 24, 25, 26, 27, 28, 29, 30, 31, 32, 33, 34, 35, 36, 37, 38, 39, 40, 41, 42, 43, 44, 45, 46, 47, 48, 49, 50, 51, 52, 53, 54, 55, 56, 57, 58, 59, 60, 61, 62, 63, 64, 65, 66, 67, 68, 69, 70, 71, 72, 73, 74, 75, 76, 77, 78, 79, 80, 81, 82, 83, 84, 85, 86, 87, 88, 89, 90, 91, 92, 93, 94, 95, 96, 97, 98, 99, 100]\n",
      "No partitions: 2\n",
      "First element: 1\n",
      "Max element: 100\n",
      "Values less than 20: [1, 2, 3, 4, 5, 6, 7, 8, 9, 10, 11, 12, 13, 14, 15, 16, 17, 18, 19]\n"
     ]
    }
   ],
   "source": [
    "# Creating our SparkContext:\n",
    "sc = spark.sparkContext\n",
    "\n",
    "# A SparkContext represents the connection to a Spark cluster\n",
    "# and can be used to create RDD and broadcast variables on that cluster.\n",
    "\n",
    "# Create some basic data:\n",
    "data = list(range(1, 101))\n",
    "\n",
    "# Create our RDD from a list/collection:\n",
    "rdd = sc.parallelize(data)\n",
    "\n",
    "# Retrieve all the data with collect method:\n",
    "rddCollect = rdd.collect()\n",
    "\n",
    "# Print out our data:\n",
    "print(rddCollect)\n",
    "\n",
    "# Print some basic information about our data:\n",
    "# Print the number of partitions:\n",
    "print(\"No partitions: {}\".format(rdd.getNumPartitions()))\n",
    "\n",
    "# Print our first and max elements:\n",
    "print(\"First element: {}\".format(rdd.first()))\n",
    "print(\"Max element: {}\".format(rdd.max()))\n",
    "\n",
    "# Applying a filter:\n",
    "print(\"Values less than 20: {}\".format(rdd.filter(lambda x: x < 20).collect()))\n",
    "# Here, the collect() method is used to retrieve the content of the RDD as a single list."
   ]
  },
  {
   "cell_type": "markdown",
   "metadata": {
    "id": "IkmCcrC-rGAh"
   },
   "source": [
    "You can have a look at the full list of operations and functions in the PySpark documentation which can be found [here](https://spark.apache.org/docs/latest/api/python/reference/index.html)."
   ]
  },
  {
   "cell_type": "markdown",
   "metadata": {
    "id": "lkW5WM9Yradb"
   },
   "source": [
    "## Section 2: WordCount\n",
    "\n",
    "To execute a \"word count\" job in PySpark, we'll need to load some data from a file and define map and reduce functions to analyse that data. You can use any text file you like, but let's work with something simple like last week."
   ]
  },
  {
   "cell_type": "code",
   "execution_count": 8,
   "metadata": {
    "id": "0WtLfG9CB36K",
    "executionInfo": {
     "status": "ok",
     "timestamp": 1708052829651,
     "user_tz": -480,
     "elapsed": 18,
     "user": {
      "displayName": "Haotian Li",
      "userId": "09451053382319173913"
     }
    }
   },
   "outputs": [],
   "source": [
    "!echo -e \"hello\\nthere\\nold\\nfriend\\nfriend\\nfriend\\nthere\" > sample.txt"
   ]
  },
  {
   "cell_type": "code",
   "execution_count": 9,
   "metadata": {
    "id": "PuUt7YUHB32n",
    "executionInfo": {
     "status": "ok",
     "timestamp": 1708052829998,
     "user_tz": -480,
     "elapsed": 363,
     "user": {
      "displayName": "Haotian Li",
      "userId": "09451053382319173913"
     }
    }
   },
   "outputs": [],
   "source": [
    "# Read the file as an RDD:\n",
    "text = sc.textFile(\"sample.txt\")"
   ]
  },
  {
   "cell_type": "code",
   "execution_count": 10,
   "metadata": {
    "colab": {
     "base_uri": "https://localhost:8080/"
    },
    "id": "ErQh0LMQ380n",
    "outputId": "9d7b9866-c981-4fb6-ca67-d0f59f8e9f5a",
    "executionInfo": {
     "status": "ok",
     "timestamp": 1708052831298,
     "user_tz": -480,
     "elapsed": 1300,
     "user": {
      "displayName": "Haotian Li",
      "userId": "09451053382319173913"
     }
    }
   },
   "outputs": [
    {
     "output_type": "execute_result",
     "data": {
      "text/plain": [
       "7"
      ]
     },
     "metadata": {},
     "execution_count": 10
    }
   ],
   "source": [
    "# Get the number of lines in the file:\n",
    "text.count()"
   ]
  },
  {
   "cell_type": "code",
   "execution_count": 11,
   "metadata": {
    "colab": {
     "base_uri": "https://localhost:8080/"
    },
    "id": "MSZWqYyz4S4k",
    "outputId": "bf74875d-2b52-42cb-eab6-afb274d9d462",
    "executionInfo": {
     "status": "ok",
     "timestamp": 1708052831846,
     "user_tz": -480,
     "elapsed": 550,
     "user": {
      "displayName": "Haotian Li",
      "userId": "09451053382319173913"
     }
    }
   },
   "outputs": [
    {
     "output_type": "execute_result",
     "data": {
      "text/plain": [
       "['hello', 'there', 'old', 'friend']"
      ]
     },
     "metadata": {},
     "execution_count": 11
    }
   ],
   "source": [
    "# Get the first 4 lines:\n",
    "text.take(4)"
   ]
  },
  {
   "cell_type": "code",
   "execution_count": 12,
   "metadata": {
    "id": "gJ4sXuUD35Qp",
    "executionInfo": {
     "status": "ok",
     "timestamp": 1708052831846,
     "user_tz": -480,
     "elapsed": 3,
     "user": {
      "displayName": "Haotian Li",
      "userId": "09451053382319173913"
     }
    }
   },
   "outputs": [],
   "source": [
    "# Create our map reduce job:\n",
    "word_count = text.flatMap(lambda line: line.split()) \\\n",
    "                 .map(lambda word: (word, 1)) \\\n",
    "                 .reduceByKey(lambda x, y: x + y)"
   ]
  },
  {
   "cell_type": "markdown",
   "metadata": {
    "id": "p3fX9DI_4kdk"
   },
   "source": [
    "The Spark engine will not execute the functions when you submit the transformations. All the steps will be executed when an “action” is invoked. We could do this by using the `saveAsTextFile()` method or `collect()` as shown below. This is the Spark \"lazy\" mode of operation.  "
   ]
  },
  {
   "cell_type": "code",
   "execution_count": 13,
   "metadata": {
    "colab": {
     "base_uri": "https://localhost:8080/"
    },
    "id": "EkGPRyBSmlkf",
    "outputId": "f74fb304-4438-4d1f-9970-ddd9dbb14f31",
    "executionInfo": {
     "status": "ok",
     "timestamp": 1708052834369,
     "user_tz": -480,
     "elapsed": 2525,
     "user": {
      "displayName": "Haotian Li",
      "userId": "09451053382319173913"
     }
    }
   },
   "outputs": [
    {
     "output_type": "stream",
     "name": "stdout",
     "text": [
      "there: 2\n",
      "hello: 1\n",
      "old: 1\n",
      "friend: 3\n"
     ]
    }
   ],
   "source": [
    "# Initiate action to collect our output and display it:\n",
    "output = word_count.collect()\n",
    "for (word, count) in output:\n",
    "    print(\"{}: {}\".format(word, count))"
   ]
  },
  {
   "cell_type": "markdown",
   "metadata": {
    "id": "h_t8ufSE6aD4"
   },
   "source": [
    "## Section 3: DataFrames and SQL\n",
    "\n",
    "You can upload data from different formats (csv, json, xml, etc.), and the schema can be deduced from the file organisation. The main function (read) has options regarding format and modifiers, you can find more information in PySpark Documentation. The information will be loaded in a PySpark DataFrame."
   ]
  },
  {
   "cell_type": "code",
   "execution_count": 14,
   "metadata": {
    "colab": {
     "base_uri": "https://localhost:8080/"
    },
    "id": "Ss_Ku02JBXow",
    "outputId": "26be1c0a-010a-446e-82f4-424058d694b3",
    "executionInfo": {
     "status": "ok",
     "timestamp": 1708052843953,
     "user_tz": -480,
     "elapsed": 9586,
     "user": {
      "displayName": "Haotian Li",
      "userId": "09451053382319173913"
     }
    }
   },
   "outputs": [
    {
     "output_type": "stream",
     "name": "stdout",
     "text": [
      "--2024-02-16 03:07:14--  https://s3.ca-central-1.amazonaws.com/climate-mirror/www.ncdc.noaa.gov/orders/qclcd/QCLCD201508.zip\n",
      "Resolving s3.ca-central-1.amazonaws.com (s3.ca-central-1.amazonaws.com)... 52.95.146.132, 52.95.147.140, 52.95.146.188, ...\n",
      "Connecting to s3.ca-central-1.amazonaws.com (s3.ca-central-1.amazonaws.com)|52.95.146.132|:443... connected.\n",
      "HTTP request sent, awaiting response... 200 OK\n",
      "Length: 76187033 (73M) [application/zip]\n",
      "Saving to: ‘QCLCD201508.zip’\n",
      "\n",
      "QCLCD201508.zip     100%[===================>]  72.66M  57.9MB/s    in 1.3s    \n",
      "\n",
      "2024-02-16 03:07:15 (57.9 MB/s) - ‘QCLCD201508.zip’ saved [76187033/76187033]\n",
      "\n",
      "Archive:  QCLCD201508.zip\n",
      "  inflating: 201508monthly.txt       \n",
      "  inflating: 201508remarks.txt       \n",
      "  inflating: 201508hourly.txt        \n",
      "  inflating: 201508precip.txt        \n",
      "  inflating: 201508station.txt       \n",
      "  inflating: 201508daily.txt         \n"
     ]
    }
   ],
   "source": [
    "!wget https://s3.ca-central-1.amazonaws.com/climate-mirror/www.ncdc.noaa.gov/orders/qclcd/QCLCD201508.zip\n",
    "!unzip QCLCD201508.zip\n",
    "!rm QCLCD201508.zip   # Tidying up"
   ]
  },
  {
   "cell_type": "code",
   "execution_count": 15,
   "metadata": {
    "id": "OoP9gOQrGWKs",
    "executionInfo": {
     "status": "ok",
     "timestamp": 1708052875393,
     "user_tz": -480,
     "elapsed": 31454,
     "user": {
      "displayName": "Haotian Li",
      "userId": "09451053382319173913"
     }
    }
   },
   "outputs": [],
   "source": [
    "# Loading our hourly data into a PySpark DataFrame:\n",
    "df = spark.read.options(delimiter=\",\", header=True, inferSchema=True).csv(\"/content/201508hourly.txt\")"
   ]
  },
  {
   "cell_type": "code",
   "execution_count": 16,
   "metadata": {
    "colab": {
     "base_uri": "https://localhost:8080/"
    },
    "id": "4fwNpSiAGWIW",
    "outputId": "3f71ac74-07a1-4962-a7be-ec2796a26f49",
    "executionInfo": {
     "status": "ok",
     "timestamp": 1708052875393,
     "user_tz": -480,
     "elapsed": 15,
     "user": {
      "displayName": "Haotian Li",
      "userId": "09451053382319173913"
     }
    }
   },
   "outputs": [
    {
     "output_type": "stream",
     "name": "stdout",
     "text": [
      "root\n",
      " |-- WBAN: integer (nullable = true)\n",
      " |-- Date: integer (nullable = true)\n",
      " |-- Time: integer (nullable = true)\n",
      " |-- StationType: integer (nullable = true)\n",
      " |-- SkyCondition: string (nullable = true)\n",
      " |-- SkyConditionFlag: string (nullable = true)\n",
      " |-- Visibility: string (nullable = true)\n",
      " |-- VisibilityFlag: string (nullable = true)\n",
      " |-- WeatherType: string (nullable = true)\n",
      " |-- WeatherTypeFlag: string (nullable = true)\n",
      " |-- DryBulbFarenheit: string (nullable = true)\n",
      " |-- DryBulbFarenheitFlag: string (nullable = true)\n",
      " |-- DryBulbCelsius: string (nullable = true)\n",
      " |-- DryBulbCelsiusFlag: string (nullable = true)\n",
      " |-- WetBulbFarenheit: string (nullable = true)\n",
      " |-- WetBulbFarenheitFlag: string (nullable = true)\n",
      " |-- WetBulbCelsius: string (nullable = true)\n",
      " |-- WetBulbCelsiusFlag: string (nullable = true)\n",
      " |-- DewPointFarenheit: string (nullable = true)\n",
      " |-- DewPointFarenheitFlag: string (nullable = true)\n",
      " |-- DewPointCelsius: string (nullable = true)\n",
      " |-- DewPointCelsiusFlag: string (nullable = true)\n",
      " |-- RelativeHumidity: string (nullable = true)\n",
      " |-- RelativeHumidityFlag: string (nullable = true)\n",
      " |-- WindSpeed: string (nullable = true)\n",
      " |-- WindSpeedFlag: string (nullable = true)\n",
      " |-- WindDirection: string (nullable = true)\n",
      " |-- WindDirectionFlag: string (nullable = true)\n",
      " |-- ValueForWindCharacter: string (nullable = true)\n",
      " |-- ValueForWindCharacterFlag: string (nullable = true)\n",
      " |-- StationPressure: string (nullable = true)\n",
      " |-- StationPressureFlag: string (nullable = true)\n",
      " |-- PressureTendency: string (nullable = true)\n",
      " |-- PressureTendencyFlag: string (nullable = true)\n",
      " |-- PressureChange: string (nullable = true)\n",
      " |-- PressureChangeFlag: string (nullable = true)\n",
      " |-- SeaLevelPressure: string (nullable = true)\n",
      " |-- SeaLevelPressureFlag: string (nullable = true)\n",
      " |-- RecordType: string (nullable = true)\n",
      " |-- RecordTypeFlag: string (nullable = true)\n",
      " |-- HourlyPrecip: string (nullable = true)\n",
      " |-- HourlyPrecipFlag: string (nullable = true)\n",
      " |-- Altimeter: string (nullable = true)\n",
      " |-- AltimeterFlag: string (nullable = true)\n",
      "\n"
     ]
    }
   ],
   "source": [
    "# We can see some more information about our data:\n",
    "# The inferSchema automatically guesses the datatypes\n",
    "# Otherwise it would assume all datatypes are strings\n",
    "df.printSchema()"
   ]
  },
  {
   "cell_type": "markdown",
   "metadata": {
    "id": "EX9jOGkyDzDJ"
   },
   "source": [
    "Now we can explore our data a bit! We ca do this with by PySpark functions or with regular SQL queries. We'll use both here."
   ]
  },
  {
   "cell_type": "code",
   "execution_count": 17,
   "metadata": {
    "colab": {
     "base_uri": "https://localhost:8080/"
    },
    "id": "7gFgQblYGWGC",
    "outputId": "7a6d7ded-e5d3-437a-a052-a326a83b61d1",
    "executionInfo": {
     "status": "ok",
     "timestamp": 1708052877323,
     "user_tz": -480,
     "elapsed": 1932,
     "user": {
      "displayName": "Haotian Li",
      "userId": "09451053382319173913"
     }
    }
   },
   "outputs": [
    {
     "output_type": "stream",
     "name": "stdout",
     "text": [
      "+----+--------+----+-----------+-------------+----------------+----------+--------------+-----------+---------------+----------------+--------------------+--------------+------------------+----------------+--------------------+--------------+------------------+-----------------+---------------------+---------------+-------------------+----------------+--------------------+---------+-------------+-------------+-----------------+---------------------+-------------------------+---------------+-------------------+----------------+--------------------+--------------+------------------+----------------+--------------------+----------+--------------+------------+----------------+---------+-------------+\n",
      "|WBAN|    Date|Time|StationType| SkyCondition|SkyConditionFlag|Visibility|VisibilityFlag|WeatherType|WeatherTypeFlag|DryBulbFarenheit|DryBulbFarenheitFlag|DryBulbCelsius|DryBulbCelsiusFlag|WetBulbFarenheit|WetBulbFarenheitFlag|WetBulbCelsius|WetBulbCelsiusFlag|DewPointFarenheit|DewPointFarenheitFlag|DewPointCelsius|DewPointCelsiusFlag|RelativeHumidity|RelativeHumidityFlag|WindSpeed|WindSpeedFlag|WindDirection|WindDirectionFlag|ValueForWindCharacter|ValueForWindCharacterFlag|StationPressure|StationPressureFlag|PressureTendency|PressureTendencyFlag|PressureChange|PressureChangeFlag|SeaLevelPressure|SeaLevelPressureFlag|RecordType|RecordTypeFlag|HourlyPrecip|HourlyPrecipFlag|Altimeter|AltimeterFlag|\n",
      "+----+--------+----+-----------+-------------+----------------+----------+--------------+-----------+---------------+----------------+--------------------+--------------+------------------+----------------+--------------------+--------------+------------------+-----------------+---------------------+---------------+-------------------+----------------+--------------------+---------+-------------+-------------+-----------------+---------------------+-------------------------+---------------+-------------------+----------------+--------------------+--------------+------------------+----------------+--------------------+----------+--------------+------------+----------------+---------+-------------+\n",
      "| 102|20150801|   1|          0|       OVC004|                |      7.00|              |           |               |              51|                    |          10.6|                  |              51|                    |          10.5|                  |               51|                     |           10.6|                   |             100|                    |        0|             |          000|                 |                     |                         |          29.82|                   |                |                    |              |                  |           30.12|                    |        AA|              |            |                |    30.00|             |\n",
      "| 102|20150801|  43|          0|       OVC006|                |     10.00|              |           |               |              52|                    |          11.0|                  |              52|                    |          11.1|                  |               52|                     |           11.0|                   |             100|                    |        6|             |          240|                 |                     |                         |          29.82|                   |                |                    |              |                  |               M|                    |        AA|              |            |                |    30.00|             |\n",
      "| 102|20150801| 101|          0|BKN006 OVC010|                |      9.00|              |           |               |              52|                    |          11.1|                  |              51|                    |          10.8|                  |               51|                     |           10.6|                   |              96|                    |        5|             |          230|                 |                     |                         |          29.82|                   |                |                    |              |                  |           30.11|                    |        AA|              |            |                |    30.00|             |\n",
      "| 102|20150801| 201|          0|BKN006 OVC010|                |      6.00|              |     -RA BR|               |              53|                    |          11.7|                  |              52|                    |          11.3|                  |               52|                     |           11.1|                   |              96|                    |        6|             |          240|                 |                     |                         |          29.82|                   |                |                    |              |                  |           30.11|                    |        AA|              |            |                |    30.00|             |\n",
      "| 102|20150801| 231|          0|FEW006 OVC010|                |      8.00|              |        -RA|               |              54|                    |          12.0|                  |              53|                    |          11.6|                  |               52|                     |           11.0|                   |              93|                    |       10|             |          250|                 |                     |                         |          29.81|                   |                |                    |              |                  |               M|                    |        AA|              |            |                |    29.99|             |\n",
      "+----+--------+----+-----------+-------------+----------------+----------+--------------+-----------+---------------+----------------+--------------------+--------------+------------------+----------------+--------------------+--------------+------------------+-----------------+---------------------+---------------+-------------------+----------------+--------------------+---------+-------------+-------------+-----------------+---------------------+-------------------------+---------------+-------------------+----------------+--------------------+--------------+------------------+----------------+--------------------+----------+--------------+------------+----------------+---------+-------------+\n",
      "only showing top 5 rows\n",
      "\n"
     ]
    }
   ],
   "source": [
    "# First we'll show just the first 5 records:\n",
    "df.select(\"*\").show(5)"
   ]
  },
  {
   "cell_type": "code",
   "execution_count": 18,
   "metadata": {
    "colab": {
     "base_uri": "https://localhost:8080/"
    },
    "id": "zQgEm4UcGWDq",
    "outputId": "26205fb0-9ef5-4bee-b0a4-585cfe45434f",
    "executionInfo": {
     "status": "ok",
     "timestamp": 1708052877679,
     "user_tz": -480,
     "elapsed": 359,
     "user": {
      "displayName": "Haotian Li",
      "userId": "09451053382319173913"
     }
    }
   },
   "outputs": [
    {
     "output_type": "stream",
     "name": "stdout",
     "text": [
      "+--------+\n",
      "|    Date|\n",
      "+--------+\n",
      "|20150801|\n",
      "|20150801|\n",
      "|20150801|\n",
      "|20150801|\n",
      "|20150801|\n",
      "|20150801|\n",
      "|20150801|\n",
      "|20150801|\n",
      "|20150801|\n",
      "|20150801|\n",
      "+--------+\n",
      "only showing top 10 rows\n",
      "\n"
     ]
    }
   ],
   "source": [
    "# Now we'll return just the \"Date\" column for the first 10 records:\n",
    "df.select(\"Date\").show(10)"
   ]
  },
  {
   "cell_type": "code",
   "execution_count": 19,
   "metadata": {
    "colab": {
     "base_uri": "https://localhost:8080/"
    },
    "id": "tiRq9CzlGWBF",
    "outputId": "52583ccf-7cb1-41fd-80f3-a7b660d5fd35",
    "executionInfo": {
     "status": "ok",
     "timestamp": 1708052889737,
     "user_tz": -480,
     "elapsed": 12059,
     "user": {
      "displayName": "Haotian Li",
      "userId": "09451053382319173913"
     }
    }
   },
   "outputs": [
    {
     "output_type": "stream",
     "name": "stdout",
     "text": [
      "+-----------+\n",
      "|StationType|\n",
      "+-----------+\n",
      "|         12|\n",
      "|          5|\n",
      "|         15|\n",
      "|         11|\n",
      "|          0|\n",
      "|          9|\n",
      "|          4|\n",
      "+-----------+\n",
      "\n"
     ]
    }
   ],
   "source": [
    "# Show the distinct values for the \"StationType\" column:\n",
    "df.select(\"StationType\").distinct().show()"
   ]
  },
  {
   "cell_type": "code",
   "execution_count": 20,
   "metadata": {
    "colab": {
     "base_uri": "https://localhost:8080/"
    },
    "id": "Lhc9OL3cRNFn",
    "outputId": "c3c2a192-e5a1-4410-dbd6-37ac3b19a471",
    "executionInfo": {
     "status": "ok",
     "timestamp": 1708052895045,
     "user_tz": -480,
     "elapsed": 5322,
     "user": {
      "displayName": "Haotian Li",
      "userId": "09451053382319173913"
     }
    }
   },
   "outputs": [
    {
     "output_type": "stream",
     "name": "stdout",
     "text": [
      "+----+--------+----+-----------+------------+----------------+----------+--------------+-----------+---------------+----------------+--------------------+--------------+------------------+----------------+--------------------+--------------+------------------+-----------------+---------------------+---------------+-------------------+----------------+--------------------+---------+-------------+-------------+-----------------+---------------------+-------------------------+---------------+-------------------+----------------+--------------------+--------------+------------------+----------------+--------------------+----------+--------------+------------+----------------+---------+-------------+\n",
      "|WBAN|    Date|Time|StationType|SkyCondition|SkyConditionFlag|Visibility|VisibilityFlag|WeatherType|WeatherTypeFlag|DryBulbFarenheit|DryBulbFarenheitFlag|DryBulbCelsius|DryBulbCelsiusFlag|WetBulbFarenheit|WetBulbFarenheitFlag|WetBulbCelsius|WetBulbCelsiusFlag|DewPointFarenheit|DewPointFarenheitFlag|DewPointCelsius|DewPointCelsiusFlag|RelativeHumidity|RelativeHumidityFlag|WindSpeed|WindSpeedFlag|WindDirection|WindDirectionFlag|ValueForWindCharacter|ValueForWindCharacterFlag|StationPressure|StationPressureFlag|PressureTendency|PressureTendencyFlag|PressureChange|PressureChangeFlag|SeaLevelPressure|SeaLevelPressureFlag|RecordType|RecordTypeFlag|HourlyPrecip|HourlyPrecipFlag|Altimeter|AltimeterFlag|\n",
      "+----+--------+----+-----------+------------+----------------+----------+--------------+-----------+---------------+----------------+--------------------+--------------+------------------+----------------+--------------------+--------------+------------------+-----------------+---------------------+---------------+-------------------+----------------+--------------------+---------+-------------+-------------+-----------------+---------------------+-------------------------+---------------+-------------------+----------------+--------------------+--------------+------------------+----------------+--------------------+----------+--------------+------------+----------------+---------+-------------+\n",
      "|3013|20150801|  53|         12|      BKN055|                |      9.00|              |           |               |              70|                    |          21.1|                  |              66|                    |          18.9|                  |               64|                     |           17.8|                   |              81|                    |        8|             |          170|                 |                     |                         |          26.35|                   |                |                    |              |                  |           30.01|                    |        AA|              |            |                |    30.17|             |\n",
      "|3013|20150801| 153|         12|         CLR|                |      9.00|              |           |               |              67|                    |          19.4|                  |              64|                    |          18.0|                  |               63|                     |           17.2|                   |              87|                    |        0|             |          000|                 |                     |                         |          26.34|                   |                |                    |              |                  |           30.00|                    |        AA|              |            |                |    30.16|             |\n",
      "|3013|20150801| 253|         12|         CLR|                |      9.00|              |           |               |              67|                    |          19.4|                  |              64|                    |          17.6|                  |               62|                     |           16.7|                   |              84|                    |        3|             |          110|                 |                     |                         |          26.33|                   |                |                    |              |                  |           29.98|                    |        AA|              |            |                |    30.15|             |\n",
      "|3013|20150801| 353|         12|         CLR|                |      8.00|              |           |               |              65|                    |          18.3|                  |              63|                    |          17.2|                  |               62|                     |           16.7|                   |              90|                    |        7|             |          100|                 |                     |                         |          26.31|                   |                |                    |              |                  |           29.98|                    |        AA|              |            |                |    30.13|             |\n",
      "|3013|20150801| 453|         12|         CLR|                |      7.00|              |           |               |              63|                    |          17.2|                  |              62|                    |          16.5|                  |               61|                     |           16.1|                   |              93|                    |        0|             |          000|                 |                     |                         |          26.31|                   |                |                    |              |                  |           29.99|                    |        AA|              |            |                |    30.13|             |\n",
      "|3013|20150801| 553|         12|         CLR|                |      7.00|              |           |               |              66|                    |          18.9|                  |              64|                    |          17.8|                  |               63|                     |           17.2|                   |              90|                    |        5|             |          110|                 |                     |                         |          26.31|                   |                |                    |              |                  |           29.97|                    |        AA|              |            |                |    30.13|             |\n",
      "|3013|20150801| 653|         12|         CLR|                |      6.00|              |         HZ|               |              71|                    |          21.7|                  |              66|                    |          19.1|                  |               64|                     |           17.8|                   |              79|                    |        6|             |          050|                 |                     |                         |          26.30|                   |                |                    |              |                  |           29.97|                    |        AA|              |            |                |    30.12|             |\n",
      "|3013|20150801| 753|         12|         CLR|                |      8.00|              |           |               |              76|                    |          24.4|                  |              68|                    |          20.0|                  |               64|                     |           17.8|                   |              67|                    |        8|             |          110|                 |                     |                         |          26.30|                   |                |                    |              |                  |           29.97|                    |        AA|              |            |                |    30.12|             |\n",
      "|3013|20150801| 853|         12|         CLR|                |      8.00|              |           |               |              83|                    |          28.3|                  |              70|                    |          20.8|                  |               63|                     |           17.2|                   |              51|                    |        5|             |          VR |                 |                     |                         |          26.29|                   |                |                    |              |                  |           29.95|                    |        AA|              |            |                |    30.11|             |\n",
      "|3013|20150801| 953|         12|         CLR|                |      8.00|              |           |               |              87|                    |          30.6|                  |              70|                    |          21.2|                  |               62|                     |           16.7|                   |              43|                    |       10|             |          130|                 |                     |                         |          26.28|                   |                |                    |              |                  |           29.93|                    |        AA|              |            |                |    30.09|             |\n",
      "|3013|20150801|1053|         12|         CLR|                |      8.00|              |           |               |              89|                    |          31.7|                  |              70|                    |          21.2|                  |               61|                     |           16.1|                   |              39|                    |        9|             |          150|                 |                     |                         |          26.26|                   |                |                    |              |                  |           29.91|                    |        AA|              |            |                |    30.07|             |\n",
      "|3013|20150801|1153|         12|      BKN070|                |      8.00|              |           |               |              88|                    |          31.1|                  |              70|                    |          21.0|                  |               61|                     |           16.1|                   |              40|                    |       10|             |          150|                 |                   17|                         |          26.23|                   |                |                    |              |                  |           29.88|                    |        AA|              |            |                |    30.04|             |\n",
      "|3013|20150801|1253|         12|      SCT065|                |      8.00|              |           |               |              90|                    |          32.2|                  |              70|                    |          21.0|                  |               60|                     |           15.6|                   |              37|                    |       10|             |          160|                 |                   16|                         |          26.21|                   |                |                    |              |                  |           29.85|                    |        AA|              |            |                |    30.02|             |\n",
      "|3013|20150801|1353|         12|      FEW070|                |      8.00|              |           |               |              94|                    |          34.4|                  |              71|                    |          21.6|                  |               60|                     |           15.6|                   |              32|                    |        9|             |          090|                 |                     |                         |          26.20|                   |                |                    |              |                  |           29.83|                    |        AA|              |            |                |    30.01|             |\n",
      "|3013|20150801|1453|         12|      FEW070|                |      8.00|              |           |               |              94|                    |          34.4|                  |              71|                    |          21.6|                  |               60|                     |           15.6|                   |              32|                    |       16|             |          120|                 |                   23|                         |          26.18|                   |                |                    |              |                  |           29.81|                    |        AA|              |            |                |    29.98|             |\n",
      "|3013|20150801|1553|         12|         CLR|                |      8.00|              |           |               |              92|                    |          33.3|                  |              69|                    |          20.7|                  |               58|                     |           14.4|                   |              32|                    |        8|             |          090|                 |                     |                         |          26.18|                   |                |                    |              |                  |           29.81|                    |        AA|              |            |                |    29.98|             |\n",
      "|3013|20150801|1653|         12|      FEW075|                |      8.00|              |           |               |              90|                    |          32.2|                  |              70|                    |          21.0|                  |               60|                     |           15.6|                   |              37|                    |       14|             |          110|                 |                     |                         |          26.17|                   |                |                    |              |                  |           29.81|                    |        AA|              |            |                |    29.97|             |\n",
      "|3013|20150801|1753|         12|         CLR|                |      8.00|              |           |               |              88|                    |          31.1|                  |              71|                    |          21.6|                  |               63|                     |           17.2|                   |              43|                    |       13|             |          140|                 |                     |                         |          26.17|                   |                |                    |              |                  |           29.82|                    |        AA|              |            |                |    29.97|             |\n",
      "|3013|20150801|1853|         12|         CLR|                |      8.00|              |           |               |              84|                    |          28.9|                  |              70|                    |          21.3|                  |               64|                     |           17.8|                   |              51|                    |       13|             |          130|                 |                     |                         |          26.19|                   |                |                    |              |                  |           29.83|                    |        AA|              |            |                |    29.99|             |\n",
      "|3013|20150801|1953|         12|         CLR|                |      9.00|              |           |               |              82|                    |          27.8|                  |              70|                    |          21.3|                  |               65|                     |           18.3|                   |              56|                    |        9|             |          140|                 |                     |                         |          26.20|                   |                |                    |              |                  |           29.84|                    |        AA|              |            |                |    30.00|             |\n",
      "+----+--------+----+-----------+------------+----------------+----------+--------------+-----------+---------------+----------------+--------------------+--------------+------------------+----------------+--------------------+--------------+------------------+-----------------+---------------------+---------------+-------------------+----------------+--------------------+---------+-------------+-------------+-----------------+---------------------+-------------------------+---------------+-------------------+----------------+--------------------+--------------+------------------+----------------+--------------------+----------+--------------+------------+----------------+---------+-------------+\n",
      "only showing top 20 rows\n",
      "\n"
     ]
    }
   ],
   "source": [
    "# We can also apply a where clause (where is an alias for filter):\n",
    "df.where(df.StationType == 12).show()"
   ]
  },
  {
   "cell_type": "markdown",
   "metadata": {
    "id": "bCMbCR9zFDNK"
   },
   "source": [
    "We can see here as well that we're limited to the top 20 rows unless we state explictly how many we want. Previously, we've set values lower than this but we can set this to > 20.\n",
    "\n",
    "The column values are also truncated at 20 characters, but we can diable this by adding `truncate=False`."
   ]
  },
  {
   "cell_type": "code",
   "execution_count": 21,
   "metadata": {
    "colab": {
     "base_uri": "https://localhost:8080/"
    },
    "id": "D5a6KP0ZFQLp",
    "outputId": "a695195b-2f03-43d8-8fb8-a121faa09258",
    "executionInfo": {
     "status": "ok",
     "timestamp": 1708052897744,
     "user_tz": -480,
     "elapsed": 2713,
     "user": {
      "displayName": "Haotian Li",
      "userId": "09451053382319173913"
     }
    }
   },
   "outputs": [
    {
     "output_type": "stream",
     "name": "stdout",
     "text": [
      "+----+--------+----+-----------+-------------+----------------+----------+--------------+-----------+---------------+----------------+--------------------+--------------+------------------+----------------+--------------------+--------------+------------------+-----------------+---------------------+---------------+-------------------+----------------+--------------------+---------+-------------+-------------+-----------------+---------------------+-------------------------+---------------+-------------------+----------------+--------------------+--------------+------------------+----------------+--------------------+----------+--------------+------------+----------------+---------+-------------+\n",
      "|WBAN|Date    |Time|StationType|SkyCondition |SkyConditionFlag|Visibility|VisibilityFlag|WeatherType|WeatherTypeFlag|DryBulbFarenheit|DryBulbFarenheitFlag|DryBulbCelsius|DryBulbCelsiusFlag|WetBulbFarenheit|WetBulbFarenheitFlag|WetBulbCelsius|WetBulbCelsiusFlag|DewPointFarenheit|DewPointFarenheitFlag|DewPointCelsius|DewPointCelsiusFlag|RelativeHumidity|RelativeHumidityFlag|WindSpeed|WindSpeedFlag|WindDirection|WindDirectionFlag|ValueForWindCharacter|ValueForWindCharacterFlag|StationPressure|StationPressureFlag|PressureTendency|PressureTendencyFlag|PressureChange|PressureChangeFlag|SeaLevelPressure|SeaLevelPressureFlag|RecordType|RecordTypeFlag|HourlyPrecip|HourlyPrecipFlag|Altimeter|AltimeterFlag|\n",
      "+----+--------+----+-----------+-------------+----------------+----------+--------------+-----------+---------------+----------------+--------------------+--------------+------------------+----------------+--------------------+--------------+------------------+-----------------+---------------------+---------------+-------------------+----------------+--------------------+---------+-------------+-------------+-----------------+---------------------+-------------------------+---------------+-------------------+----------------+--------------------+--------------+------------------+----------------+--------------------+----------+--------------+------------+----------------+---------+-------------+\n",
      "|3013|20150801|53  |12         |BKN055       |                | 9.00     |              |           |               |70              |                    |21.1          |                  |66              |                    |18.9          |                  |64               |                     |17.8           |                   | 81             |                    | 8       |             |170          |                 |                     |                         |26.35          |                   |                |                    |              |                  |30.01           |                    |AA        |              |            |                |30.17    |             |\n",
      "|3013|20150801|153 |12         |CLR          |                | 9.00     |              |           |               |67              |                    |19.4          |                  |64              |                    |18.0          |                  |63               |                     |17.2           |                   | 87             |                    | 0       |             |000          |                 |                     |                         |26.34          |                   |                |                    |              |                  |30.00           |                    |AA        |              |            |                |30.16    |             |\n",
      "|3013|20150801|253 |12         |CLR          |                | 9.00     |              |           |               |67              |                    |19.4          |                  |64              |                    |17.6          |                  |62               |                     |16.7           |                   | 84             |                    | 3       |             |110          |                 |                     |                         |26.33          |                   |                |                    |              |                  |29.98           |                    |AA        |              |            |                |30.15    |             |\n",
      "|3013|20150801|353 |12         |CLR          |                | 8.00     |              |           |               |65              |                    |18.3          |                  |63              |                    |17.2          |                  |62               |                     |16.7           |                   | 90             |                    | 7       |             |100          |                 |                     |                         |26.31          |                   |                |                    |              |                  |29.98           |                    |AA        |              |            |                |30.13    |             |\n",
      "|3013|20150801|453 |12         |CLR          |                | 7.00     |              |           |               |63              |                    |17.2          |                  |62              |                    |16.5          |                  |61               |                     |16.1           |                   | 93             |                    | 0       |             |000          |                 |                     |                         |26.31          |                   |                |                    |              |                  |29.99           |                    |AA        |              |            |                |30.13    |             |\n",
      "|3013|20150801|553 |12         |CLR          |                | 7.00     |              |           |               |66              |                    |18.9          |                  |64              |                    |17.8          |                  |63               |                     |17.2           |                   | 90             |                    | 5       |             |110          |                 |                     |                         |26.31          |                   |                |                    |              |                  |29.97           |                    |AA        |              |            |                |30.13    |             |\n",
      "|3013|20150801|653 |12         |CLR          |                | 6.00     |              |HZ         |               |71              |                    |21.7          |                  |66              |                    |19.1          |                  |64               |                     |17.8           |                   | 79             |                    | 6       |             |050          |                 |                     |                         |26.30          |                   |                |                    |              |                  |29.97           |                    |AA        |              |            |                |30.12    |             |\n",
      "|3013|20150801|753 |12         |CLR          |                | 8.00     |              |           |               |76              |                    |24.4          |                  |68              |                    |20.0          |                  |64               |                     |17.8           |                   | 67             |                    | 8       |             |110          |                 |                     |                         |26.30          |                   |                |                    |              |                  |29.97           |                    |AA        |              |            |                |30.12    |             |\n",
      "|3013|20150801|853 |12         |CLR          |                | 8.00     |              |           |               |83              |                    |28.3          |                  |70              |                    |20.8          |                  |63               |                     |17.2           |                   | 51             |                    | 5       |             |VR           |                 |                     |                         |26.29          |                   |                |                    |              |                  |29.95           |                    |AA        |              |            |                |30.11    |             |\n",
      "|3013|20150801|953 |12         |CLR          |                | 8.00     |              |           |               |87              |                    |30.6          |                  |70              |                    |21.2          |                  |62               |                     |16.7           |                   | 43             |                    |10       |             |130          |                 |                     |                         |26.28          |                   |                |                    |              |                  |29.93           |                    |AA        |              |            |                |30.09    |             |\n",
      "|3013|20150801|1053|12         |CLR          |                | 8.00     |              |           |               |89              |                    |31.7          |                  |70              |                    |21.2          |                  |61               |                     |16.1           |                   | 39             |                    | 9       |             |150          |                 |                     |                         |26.26          |                   |                |                    |              |                  |29.91           |                    |AA        |              |            |                |30.07    |             |\n",
      "|3013|20150801|1153|12         |BKN070       |                | 8.00     |              |           |               |88              |                    |31.1          |                  |70              |                    |21.0          |                  |61               |                     |16.1           |                   | 40             |                    |10       |             |150          |                 |17                   |                         |26.23          |                   |                |                    |              |                  |29.88           |                    |AA        |              |            |                |30.04    |             |\n",
      "|3013|20150801|1253|12         |SCT065       |                | 8.00     |              |           |               |90              |                    |32.2          |                  |70              |                    |21.0          |                  |60               |                     |15.6           |                   | 37             |                    |10       |             |160          |                 |16                   |                         |26.21          |                   |                |                    |              |                  |29.85           |                    |AA        |              |            |                |30.02    |             |\n",
      "|3013|20150801|1353|12         |FEW070       |                | 8.00     |              |           |               |94              |                    |34.4          |                  |71              |                    |21.6          |                  |60               |                     |15.6           |                   | 32             |                    | 9       |             |090          |                 |                     |                         |26.20          |                   |                |                    |              |                  |29.83           |                    |AA        |              |            |                |30.01    |             |\n",
      "|3013|20150801|1453|12         |FEW070       |                | 8.00     |              |           |               |94              |                    |34.4          |                  |71              |                    |21.6          |                  |60               |                     |15.6           |                   | 32             |                    |16       |             |120          |                 |23                   |                         |26.18          |                   |                |                    |              |                  |29.81           |                    |AA        |              |            |                |29.98    |             |\n",
      "|3013|20150801|1553|12         |CLR          |                | 8.00     |              |           |               |92              |                    |33.3          |                  |69              |                    |20.7          |                  |58               |                     |14.4           |                   | 32             |                    | 8       |             |090          |                 |                     |                         |26.18          |                   |                |                    |              |                  |29.81           |                    |AA        |              |            |                |29.98    |             |\n",
      "|3013|20150801|1653|12         |FEW075       |                | 8.00     |              |           |               |90              |                    |32.2          |                  |70              |                    |21.0          |                  |60               |                     |15.6           |                   | 37             |                    |14       |             |110          |                 |                     |                         |26.17          |                   |                |                    |              |                  |29.81           |                    |AA        |              |            |                |29.97    |             |\n",
      "|3013|20150801|1753|12         |CLR          |                | 8.00     |              |           |               |88              |                    |31.1          |                  |71              |                    |21.6          |                  |63               |                     |17.2           |                   | 43             |                    |13       |             |140          |                 |                     |                         |26.17          |                   |                |                    |              |                  |29.82           |                    |AA        |              |            |                |29.97    |             |\n",
      "|3013|20150801|1853|12         |CLR          |                | 8.00     |              |           |               |84              |                    |28.9          |                  |70              |                    |21.3          |                  |64               |                     |17.8           |                   | 51             |                    |13       |             |130          |                 |                     |                         |26.19          |                   |                |                    |              |                  |29.83           |                    |AA        |              |            |                |29.99    |             |\n",
      "|3013|20150801|1953|12         |CLR          |                | 9.00     |              |           |               |82              |                    |27.8          |                  |70              |                    |21.3          |                  |65               |                     |18.3           |                   | 56             |                    | 9       |             |140          |                 |                     |                         |26.20          |                   |                |                    |              |                  |29.84           |                    |AA        |              |            |                |30.00    |             |\n",
      "|3013|20150801|2053|12         |SCT050 BKN065|                | 9.00     |              |           |               |81              |                    |27.2          |                  |71              |                    |21.5          |                  |66               |                     |18.9           |                   | 60             |                    |10       |             |120          |                 |                     |                         |26.22          |                   |                |                    |              |                  |29.85           |                    |AA        |              |            |                |30.03    |             |\n",
      "|3013|20150801|2153|12         |CLR          |                | 9.00     |              |           |               |75              |                    |23.9          |                  |64              |                    |17.9          |                  |58               |                     |14.4           |                   | 56             |                    | 7       |             |170          |                 |                     |                         |26.20          |                   |                |                    |              |                  |29.84           |                    |AA        |              |            |                |30.01    |             |\n",
      "|3013|20150801|2253|12         |CLR          |                | 9.00     |              |           |               |74              |                    |23.3          |                  |64              |                    |17.7          |                  |58               |                     |14.4           |                   | 58             |                    | 0       |             |000          |                 |                     |                         |26.19          |                   |                |                    |              |                  |29.82           |                    |AA        |              |            |                |29.99    |             |\n",
      "|3013|20150801|2353|12         |CLR          |                | 9.00     |              |           |               |71              |                    |21.7          |                  |63              |                    |17.4          |                  |59               |                     |15.0           |                   | 66             |                    | 0       |             |000          |                 |                     |                         |26.19          |                   |                |                    |              |                  |29.82           |                    |AA        |              |            |                |29.99    |             |\n",
      "|3013|20150802|53  |12         |CLR          |                | 8.00     |              |           |               |71              |                    |21.7          |                  |66              |                    |19.1          |                  |64               |                     |17.8           |                   | 79             |                    | 8       |             |300          |                 |                     |                         |26.18          |                   |                |                    |              |                  |29.80           |                    |AA        |              |            |                |29.98    |             |\n",
      "|3013|20150802|153 |12         |CLR          |                | 9.00     |              |           |               |69              |                    |20.6          |                  |62              |                    |16.7          |                  |58               |                     |14.4           |                   | 68             |                    | 6       |             |260          |                 |                     |                         |26.16          |                   |                |                    |              |                  |29.79           |                    |AA        |              |            |                |29.96    |             |\n",
      "|3013|20150802|253 |12         |CLR          |                | 9.00     |              |           |               |68              |                    |20.0          |                  |62              |                    |16.8          |                  |59               |                     |15.0           |                   | 73             |                    | 0       |             |000          |                 |                     |                         |26.16          |                   |                |                    |              |                  |29.79           |                    |AA        |              |            |                |29.96    |             |\n",
      "|3013|20150802|353 |12         |CLR          |                | 9.00     |              |           |               |66              |                    |18.9          |                  |62              |                    |16.8          |                  |60               |                     |15.6           |                   | 81             |                    | 7       |             |150          |                 |                     |                         |26.18          |                   |                |                    |              |                  |29.82           |                    |AA        |              |            |                |29.98    |             |\n",
      "|3013|20150802|453 |12         |CLR          |                | 8.00     |              |           |               |64              |                    |17.8          |                  |61              |                    |16.0          |                  |59               |                     |15.0           |                   | 84             |                    | 5       |             |220          |                 |                     |                         |26.19          |                   |                |                    |              |                  |29.84           |                    |AA        |              |            |                |29.99    |             |\n",
      "|3013|20150802|553 |12         |CLR          |                | 8.00     |              |           |               |68              |                    |20.0          |                  |62              |                    |16.8          |                  |59               |                     |15.0           |                   | 73             |                    | 6       |             |270          |                 |                     |                         |26.20          |                   |                |                    |              |                  |29.83           |                    |AA        |              |            |                |30.00    |             |\n",
      "+----+--------+----+-----------+-------------+----------------+----------+--------------+-----------+---------------+----------------+--------------------+--------------+------------------+----------------+--------------------+--------------+------------------+-----------------+---------------------+---------------+-------------------+----------------+--------------------+---------+-------------+-------------+-----------------+---------------------+-------------------------+---------------+-------------------+----------------+--------------------+--------------+------------------+----------------+--------------------+----------+--------------+------------+----------------+---------+-------------+\n",
      "only showing top 30 rows\n",
      "\n"
     ]
    }
   ],
   "source": [
    "df.where(df.StationType == 12).show(30, False)"
   ]
  },
  {
   "cell_type": "code",
   "execution_count": 22,
   "metadata": {
    "colab": {
     "base_uri": "https://localhost:8080/"
    },
    "id": "OCt6yXiZRNKu",
    "outputId": "e4b7420d-b0bf-494d-9e3c-e7508b54ec86",
    "executionInfo": {
     "status": "ok",
     "timestamp": 1708052910312,
     "user_tz": -480,
     "elapsed": 12570,
     "user": {
      "displayName": "Haotian Li",
      "userId": "09451053382319173913"
     }
    }
   },
   "outputs": [
    {
     "output_type": "stream",
     "name": "stdout",
     "text": [
      "+-----------+-------+\n",
      "|StationType|  count|\n",
      "+-----------+-------+\n",
      "|         12| 564104|\n",
      "|          5|  47576|\n",
      "|         15|1024600|\n",
      "|         11| 266494|\n",
      "|          0|2267015|\n",
      "|          9|   3674|\n",
      "|          4|   3837|\n",
      "+-----------+-------+\n",
      "\n"
     ]
    }
   ],
   "source": [
    "# Aggregate the records by StationType and give the count of records:\n",
    "df.groupBy(\"StationType\").count().show()"
   ]
  },
  {
   "cell_type": "code",
   "execution_count": 23,
   "metadata": {
    "colab": {
     "base_uri": "https://localhost:8080/"
    },
    "id": "n-r3OmHjRM_Y",
    "outputId": "e610182f-8b84-4ec2-ca37-2378cbea7ba3",
    "executionInfo": {
     "status": "ok",
     "timestamp": 1708052926591,
     "user_tz": -480,
     "elapsed": 16296,
     "user": {
      "displayName": "Haotian Li",
      "userId": "09451053382319173913"
     }
    }
   },
   "outputs": [
    {
     "output_type": "stream",
     "name": "stdout",
     "text": [
      "+-----------------+\n",
      "|  avg(Visibility)|\n",
      "+-----------------+\n",
      "|9.232849114937112|\n",
      "+-----------------+\n",
      "\n"
     ]
    }
   ],
   "source": [
    "# Aggregate to get average visibility\n",
    "df.agg({'Visibility': 'avg'}).show()"
   ]
  },
  {
   "cell_type": "code",
   "execution_count": 24,
   "metadata": {
    "colab": {
     "base_uri": "https://localhost:8080/"
    },
    "id": "HfL1LOr2Sw_U",
    "outputId": "09ed6aec-b6db-4abd-e395-9cdefd3fd9b2",
    "executionInfo": {
     "status": "ok",
     "timestamp": 1708052943261,
     "user_tz": -480,
     "elapsed": 16684,
     "user": {
      "displayName": "Haotian Li",
      "userId": "09451053382319173913"
     }
    }
   },
   "outputs": [
    {
     "output_type": "stream",
     "name": "stdout",
     "text": [
      "+-----------+------------------+\n",
      "|StationType|   avg(Visibility)|\n",
      "+-----------+------------------+\n",
      "|          0| 9.355271418759141|\n",
      "|          4|12.434263322884012|\n",
      "|          5| 8.410460638776907|\n",
      "|          9|11.377107523187918|\n",
      "|         11| 9.053876037386187|\n",
      "|         12| 8.860038572014776|\n",
      "|         15|              null|\n",
      "+-----------+------------------+\n",
      "\n"
     ]
    }
   ],
   "source": [
    "df.groupBy('StationType').agg({'Visibility': 'avg'}).orderBy('StationType').show()"
   ]
  },
  {
   "cell_type": "markdown",
   "metadata": {
    "id": "KUBPeMjt0Yt3"
   },
   "source": [
    "To use SQL statements you need first to create a table or view on the dataset."
   ]
  },
  {
   "cell_type": "code",
   "execution_count": 25,
   "metadata": {
    "id": "lkNZrMQG0YfB",
    "executionInfo": {
     "status": "ok",
     "timestamp": 1708052943261,
     "user_tz": -480,
     "elapsed": 2,
     "user": {
      "displayName": "Haotian Li",
      "userId": "09451053382319173913"
     }
    }
   },
   "outputs": [],
   "source": [
    "# Creating a view with the name \"Hourly\":\n",
    "df.createOrReplaceTempView(\"Hourly\")"
   ]
  },
  {
   "cell_type": "code",
   "execution_count": 26,
   "metadata": {
    "colab": {
     "base_uri": "https://localhost:8080/",
     "height": 208
    },
    "id": "7Cs3Ympi0YcU",
    "outputId": "a418cc83-6e0c-4ae3-b004-f847dd26c749",
    "executionInfo": {
     "status": "ok",
     "timestamp": 1708052969728,
     "user_tz": -480,
     "elapsed": 26469,
     "user": {
      "displayName": "Haotian Li",
      "userId": "09451053382319173913"
     }
    }
   },
   "outputs": [
    {
     "output_type": "execute_result",
     "data": {
      "text/plain": [
       "+-----------+\n",
       "|StationType|\n",
       "+-----------+\n",
       "|         12|\n",
       "|          5|\n",
       "|         15|\n",
       "|         11|\n",
       "|          0|\n",
       "|          9|\n",
       "|          4|\n",
       "+-----------+"
      ],
      "text/html": [
       "<table border='1'>\n",
       "<tr><th>StationType</th></tr>\n",
       "<tr><td>12</td></tr>\n",
       "<tr><td>5</td></tr>\n",
       "<tr><td>15</td></tr>\n",
       "<tr><td>11</td></tr>\n",
       "<tr><td>0</td></tr>\n",
       "<tr><td>9</td></tr>\n",
       "<tr><td>4</td></tr>\n",
       "</table>\n"
      ]
     },
     "metadata": {},
     "execution_count": 26
    }
   ],
   "source": [
    "# List the distinct values for the field ”StationType”:\n",
    "spark.sql('select distinct StationType from Hourly')"
   ]
  },
  {
   "cell_type": "code",
   "execution_count": 27,
   "metadata": {
    "colab": {
     "base_uri": "https://localhost:8080/",
     "height": 529
    },
    "id": "b0g3rG3j0YYi",
    "outputId": "ab5196d0-819f-4528-c771-a296b2a8f30b",
    "executionInfo": {
     "status": "ok",
     "timestamp": 1708053002947,
     "user_tz": -480,
     "elapsed": 33222,
     "user": {
      "displayName": "Haotian Li",
      "userId": "09451053382319173913"
     }
    }
   },
   "outputs": [
    {
     "output_type": "execute_result",
     "data": {
      "text/plain": [
       "+--------+---------------------+\n",
       "|    Date|avg(DryBulbFarenheit)|\n",
       "+--------+---------------------+\n",
       "|20150815|    74.77668678433244|\n",
       "|20150825|    69.38363964329439|\n",
       "|20150810|    73.51759071137828|\n",
       "|20150829|    70.45618671057692|\n",
       "|20150812|    73.48426317212333|\n",
       "|20150801|     74.3186249174491|\n",
       "|20150809|    73.70625219776356|\n",
       "|20150807|    73.12576788334492|\n",
       "|20150819|    70.29239255092567|\n",
       "|20150818|    71.69551032133623|\n",
       "|20150816|    73.70092486604541|\n",
       "|20150823|    69.36308463618973|\n",
       "|20150830|    71.14330221159474|\n",
       "|20150822|    71.16109849179588|\n",
       "|20150808|    73.08182474436337|\n",
       "|20150806|    72.99776815479741|\n",
       "|20150831|    72.30238873051874|\n",
       "|20150824|    69.50841568263708|\n",
       "|20150811|    73.25652113938892|\n",
       "|20150826|    69.16310804302456|\n",
       "+--------+---------------------+\n",
       "only showing top 20 rows"
      ],
      "text/html": [
       "<table border='1'>\n",
       "<tr><th>Date</th><th>avg(DryBulbFarenheit)</th></tr>\n",
       "<tr><td>20150815</td><td>74.77668678433244</td></tr>\n",
       "<tr><td>20150825</td><td>69.38363964329439</td></tr>\n",
       "<tr><td>20150810</td><td>73.51759071137828</td></tr>\n",
       "<tr><td>20150829</td><td>70.45618671057692</td></tr>\n",
       "<tr><td>20150812</td><td>73.48426317212333</td></tr>\n",
       "<tr><td>20150801</td><td>74.3186249174491</td></tr>\n",
       "<tr><td>20150809</td><td>73.70625219776356</td></tr>\n",
       "<tr><td>20150807</td><td>73.12576788334492</td></tr>\n",
       "<tr><td>20150819</td><td>70.29239255092567</td></tr>\n",
       "<tr><td>20150818</td><td>71.69551032133623</td></tr>\n",
       "<tr><td>20150816</td><td>73.70092486604541</td></tr>\n",
       "<tr><td>20150823</td><td>69.36308463618973</td></tr>\n",
       "<tr><td>20150830</td><td>71.14330221159474</td></tr>\n",
       "<tr><td>20150822</td><td>71.16109849179588</td></tr>\n",
       "<tr><td>20150808</td><td>73.08182474436337</td></tr>\n",
       "<tr><td>20150806</td><td>72.99776815479741</td></tr>\n",
       "<tr><td>20150831</td><td>72.30238873051874</td></tr>\n",
       "<tr><td>20150824</td><td>69.50841568263708</td></tr>\n",
       "<tr><td>20150811</td><td>73.25652113938892</td></tr>\n",
       "<tr><td>20150826</td><td>69.16310804302456</td></tr>\n",
       "</table>\n",
       "only showing top 20 rows\n"
      ]
     },
     "metadata": {},
     "execution_count": 27
    }
   ],
   "source": [
    "# Display the average temperature aggregated by date\n",
    "spark.sql('select Date, avg(DryBulbFarenheit) from Hourly group by Date')"
   ]
  },
  {
   "cell_type": "code",
   "execution_count": 28,
   "metadata": {
    "colab": {
     "base_uri": "https://localhost:8080/",
     "height": 529
    },
    "id": "TwWVznlA25c8",
    "outputId": "8eee128e-fc16-4bed-c0e8-1515e3c6c61a",
    "executionInfo": {
     "status": "ok",
     "timestamp": 1708053029036,
     "user_tz": -480,
     "elapsed": 26092,
     "user": {
      "displayName": "Haotian Li",
      "userId": "09451053382319173913"
     }
    }
   },
   "outputs": [
    {
     "output_type": "execute_result",
     "data": {
      "text/plain": [
       "+--------+---------------------+\n",
       "|    Date|avg(DryBulbFarenheit)|\n",
       "+--------+---------------------+\n",
       "|20150826|    69.16310804302456|\n",
       "|20150827|    69.35265452421945|\n",
       "|20150823|    69.36308463618973|\n",
       "|20150825|    69.38363964329439|\n",
       "|20150824|    69.50841568263708|\n",
       "|20150820|    69.86937829322987|\n",
       "|20150828|    70.16160935945243|\n",
       "|20150819|    70.29239255092567|\n",
       "|20150829|    70.45618671057692|\n",
       "|20150830|    71.14330221159474|\n",
       "|20150822|    71.16109849179588|\n",
       "|20150821|    71.18859391189896|\n",
       "|20150818|    71.69551032133623|\n",
       "|20150831|    72.30238873051874|\n",
       "|20150817|    72.46782241956475|\n",
       "|20150806|    72.99776815479741|\n",
       "|20150808|    73.08182474436337|\n",
       "|20150807|    73.12576788334492|\n",
       "|20150811|    73.25652113938892|\n",
       "|20150812|    73.48426317212333|\n",
       "+--------+---------------------+\n",
       "only showing top 20 rows"
      ],
      "text/html": [
       "<table border='1'>\n",
       "<tr><th>Date</th><th>avg(DryBulbFarenheit)</th></tr>\n",
       "<tr><td>20150826</td><td>69.16310804302456</td></tr>\n",
       "<tr><td>20150827</td><td>69.35265452421945</td></tr>\n",
       "<tr><td>20150823</td><td>69.36308463618973</td></tr>\n",
       "<tr><td>20150825</td><td>69.38363964329439</td></tr>\n",
       "<tr><td>20150824</td><td>69.50841568263708</td></tr>\n",
       "<tr><td>20150820</td><td>69.86937829322987</td></tr>\n",
       "<tr><td>20150828</td><td>70.16160935945243</td></tr>\n",
       "<tr><td>20150819</td><td>70.29239255092567</td></tr>\n",
       "<tr><td>20150829</td><td>70.45618671057692</td></tr>\n",
       "<tr><td>20150830</td><td>71.14330221159474</td></tr>\n",
       "<tr><td>20150822</td><td>71.16109849179588</td></tr>\n",
       "<tr><td>20150821</td><td>71.18859391189896</td></tr>\n",
       "<tr><td>20150818</td><td>71.69551032133623</td></tr>\n",
       "<tr><td>20150831</td><td>72.30238873051874</td></tr>\n",
       "<tr><td>20150817</td><td>72.46782241956475</td></tr>\n",
       "<tr><td>20150806</td><td>72.99776815479741</td></tr>\n",
       "<tr><td>20150808</td><td>73.08182474436337</td></tr>\n",
       "<tr><td>20150807</td><td>73.12576788334492</td></tr>\n",
       "<tr><td>20150811</td><td>73.25652113938892</td></tr>\n",
       "<tr><td>20150812</td><td>73.48426317212333</td></tr>\n",
       "</table>\n",
       "only showing top 20 rows\n"
      ]
     },
     "metadata": {},
     "execution_count": 28
    }
   ],
   "source": [
    "# Display the average temperature aggregated by date ordering by average:\n",
    "spark.sql('select Date, avg(DryBulbFarenheit) from Hourly group by Date order by 2')"
   ]
  },
  {
   "cell_type": "markdown",
   "metadata": {
    "id": "MHXS5xgG-xAM"
   },
   "source": [
    "## Section 4 - Exercises\n",
    "\n",
    "In this exercise you'll explore the page views of Wikimedia projects. Download the page view stats generated between 00:00 and 01:00 on Jan 1, 2016 and unpack it:"
   ]
  },
  {
   "cell_type": "code",
   "execution_count": 29,
   "metadata": {
    "colab": {
     "base_uri": "https://localhost:8080/"
    },
    "id": "pc4EtVxG-xV5",
    "outputId": "318a0139-bee4-4745-a7c7-907cabe7f7a8",
    "executionInfo": {
     "status": "ok",
     "timestamp": 1708053053191,
     "user_tz": -480,
     "elapsed": 24158,
     "user": {
      "displayName": "Haotian Li",
      "userId": "09451053382319173913"
     }
    }
   },
   "outputs": [
    {
     "output_type": "stream",
     "name": "stdout",
     "text": [
      "--2024-02-16 03:10:28--  https://dumps.wikimedia.org/other/pagecounts-raw/2016/2016-01/pagecounts-20160101-000000.gz\n",
      "Resolving dumps.wikimedia.org (dumps.wikimedia.org)... 208.80.154.71, 2620:0:861:3:208:80:154:71\n",
      "Connecting to dumps.wikimedia.org (dumps.wikimedia.org)|208.80.154.71|:443... connected.\n",
      "HTTP request sent, awaiting response... 200 OK\n",
      "Length: 68709458 (66M) [application/octet-stream]\n",
      "Saving to: ‘pagecounts-20160101-000000.gz’\n",
      "\n",
      "pagecounts-20160101 100%[===================>]  65.53M  3.71MB/s    in 18s     \n",
      "\n",
      "2024-02-16 03:10:47 (3.57 MB/s) - ‘pagecounts-20160101-000000.gz’ saved [68709458/68709458]\n",
      "\n"
     ]
    }
   ],
   "source": [
    "!wget https://dumps.wikimedia.org/other/pagecounts-raw/2016/2016-01/pagecounts-20160101-000000.gz\n",
    "!gunzip /content/pagecounts-20160101-000000.gz"
   ]
  },
  {
   "cell_type": "markdown",
   "metadata": {
    "id": "m80xFWf5_T_0"
   },
   "source": [
    "Each line, delimited by a space, contains the stats for one Wikimedia page. The schema looks as follows (there are no column headers included):\n",
    "\n",
    "`<project code> <page title> <num hits> <page size>`\n",
    "\n",
    "Create an RDD or a DataFrame from the input file and write the code to solve each of the following tasks. You can use operations on DataFrames, SQL on DataFrames or operations on RDDs to solve these."
   ]
  },
  {
   "cell_type": "code",
   "execution_count": 30,
   "metadata": {
    "id": "aN0_i86t-yN8",
    "executionInfo": {
     "status": "ok",
     "timestamp": 1708053053191,
     "user_tz": -480,
     "elapsed": 17,
     "user": {
      "displayName": "Haotian Li",
      "userId": "09451053382319173913"
     }
    }
   },
   "outputs": [],
   "source": [
    "# TODO:"
   ]
  },
  {
   "cell_type": "markdown",
   "metadata": {
    "id": "61kLDPWCCKct"
   },
   "source": [
    "1. Determine the number of records the dataset has in total."
   ]
  },
  {
   "cell_type": "code",
   "execution_count": 31,
   "metadata": {
    "id": "zB0YMnEe-yDh",
    "executionInfo": {
     "status": "ok",
     "timestamp": 1708053053191,
     "user_tz": -480,
     "elapsed": 16,
     "user": {
      "displayName": "Haotian Li",
      "userId": "09451053382319173913"
     }
    }
   },
   "outputs": [],
   "source": [
    "# TODO:"
   ]
  },
  {
   "cell_type": "markdown",
   "metadata": {
    "id": "rzWxwJg6CcYP"
   },
   "source": [
    "2. Determine the record with the largest page size. If multiple records have the same size, list all of them."
   ]
  },
  {
   "cell_type": "code",
   "execution_count": 32,
   "metadata": {
    "id": "_HtPNDdPDFr7",
    "executionInfo": {
     "status": "ok",
     "timestamp": 1708053053191,
     "user_tz": -480,
     "elapsed": 15,
     "user": {
      "displayName": "Haotian Li",
      "userId": "09451053382319173913"
     }
    }
   },
   "outputs": [],
   "source": [
    "# TODO:"
   ]
  },
  {
   "cell_type": "markdown",
   "metadata": {
    "id": "slI_MNyPEpCI"
   },
   "source": [
    "3. Compute the total number of pageviews (hits) for each project (as the schema shows, the first field of each record contains the project code)."
   ]
  },
  {
   "cell_type": "code",
   "execution_count": 33,
   "metadata": {
    "id": "K_kcjmioKMSU",
    "executionInfo": {
     "status": "ok",
     "timestamp": 1708053053191,
     "user_tz": -480,
     "elapsed": 15,
     "user": {
      "displayName": "Haotian Li",
      "userId": "09451053382319173913"
     }
    }
   },
   "outputs": [],
   "source": [
    "# TODO:"
   ]
  },
  {
   "cell_type": "markdown",
   "metadata": {
    "id": "fazMU4hnE-hy"
   },
   "source": [
    "4. Determine the number of page titles that start with the article ”The”. How many of those page titles are not part of the English project (pages that are part of the English project have “en” as first field)?"
   ]
  },
  {
   "cell_type": "code",
   "execution_count": 34,
   "metadata": {
    "id": "XRGvgS9bKRVw",
    "executionInfo": {
     "status": "ok",
     "timestamp": 1708053053191,
     "user_tz": -480,
     "elapsed": 15,
     "user": {
      "displayName": "Haotian Li",
      "userId": "09451053382319173913"
     }
    }
   },
   "outputs": [],
   "source": [
    "# TODO:"
   ]
  },
  {
   "cell_type": "markdown",
   "metadata": {
    "id": "PkNE0-3SH-_a"
   },
   "source": [
    "5. Determine the most frequently occurring page title term in this dataset.\n",
    "\n",
    "  **Note:** We wouldn't typically use SQL for a task like this - it's quite complicated to extract terms from SQL entries!"
   ]
  },
  {
   "cell_type": "code",
   "execution_count": 35,
   "metadata": {
    "id": "v64E-dJLH_YE",
    "executionInfo": {
     "status": "ok",
     "timestamp": 1708053053192,
     "user_tz": -480,
     "elapsed": 16,
     "user": {
      "displayName": "Haotian Li",
      "userId": "09451053382319173913"
     }
    }
   },
   "outputs": [],
   "source": [
    "# TODO:"
   ]
  },
  {
   "cell_type": "code",
   "execution_count": 36,
   "metadata": {
    "id": "NMgsmuqHtPZ-",
    "executionInfo": {
     "status": "ok",
     "timestamp": 1708053053499,
     "user_tz": -480,
     "elapsed": 322,
     "user": {
      "displayName": "Haotian Li",
      "userId": "09451053382319173913"
     }
    }
   },
   "outputs": [],
   "source": [
    "# Stopping Spark:\n",
    "sc.stop()\n",
    "spark.stop()"
   ]
  }
 ],
 "metadata": {
  "colab": {
   "provenance": []
  },
  "kernelspec": {
   "display_name": "Python 3 (ipykernel)",
   "language": "python",
   "name": "python3"
  },
  "language_info": {
   "codemirror_mode": {
    "name": "ipython",
    "version": 3
   },
   "file_extension": ".py",
   "mimetype": "text/x-python",
   "name": "python",
   "nbconvert_exporter": "python",
   "pygments_lexer": "ipython3",
   "version": "3.9.5"
  }
 },
 "nbformat": 4,
 "nbformat_minor": 0
}
